{
 "cells": [
  {
   "cell_type": "code",
   "execution_count": 5,
   "id": "187fe113",
   "metadata": {
    "ExecuteTime": {
     "end_time": "2023-09-11T06:31:48.387414Z",
     "start_time": "2023-09-11T06:31:45.576456Z"
    }
   },
   "outputs": [
    {
     "name": "stdout",
     "output_type": "stream",
     "text": [
      "Requirement already satisfied: flask in c:\\users\\smhrd\\anaconda3\\lib\\site-packages (1.1.2)\n",
      "Requirement already satisfied: itsdangerous>=0.24 in c:\\users\\smhrd\\anaconda3\\lib\\site-packages (from flask) (2.0.1)\n",
      "Requirement already satisfied: Werkzeug>=0.15 in c:\\users\\smhrd\\anaconda3\\lib\\site-packages (from flask) (2.0.3)\n",
      "Requirement already satisfied: Jinja2>=2.10.1 in c:\\users\\smhrd\\anaconda3\\lib\\site-packages (from flask) (2.11.3)\n",
      "Requirement already satisfied: click>=5.1 in c:\\users\\smhrd\\anaconda3\\lib\\site-packages (from flask) (8.0.4)\n",
      "Requirement already satisfied: colorama in c:\\users\\smhrd\\anaconda3\\lib\\site-packages (from click>=5.1->flask) (0.4.5)\n",
      "Requirement already satisfied: MarkupSafe>=0.23 in c:\\users\\smhrd\\anaconda3\\lib\\site-packages (from Jinja2>=2.10.1->flask) (2.0.1)\n"
     ]
    }
   ],
   "source": [
    "!pip install flask"
   ]
  },
  {
   "cell_type": "code",
   "execution_count": 6,
   "id": "228d19de",
   "metadata": {
    "ExecuteTime": {
     "end_time": "2023-09-11T06:31:52.046475Z",
     "start_time": "2023-09-11T06:31:49.220989Z"
    }
   },
   "outputs": [
    {
     "name": "stdout",
     "output_type": "stream",
     "text": [
      "Requirement already satisfied: flask_cors in c:\\users\\smhrd\\anaconda3\\lib\\site-packages (4.0.0)\n",
      "Requirement already satisfied: Flask>=0.9 in c:\\users\\smhrd\\anaconda3\\lib\\site-packages (from flask_cors) (1.1.2)\n",
      "Requirement already satisfied: Jinja2>=2.10.1 in c:\\users\\smhrd\\anaconda3\\lib\\site-packages (from Flask>=0.9->flask_cors) (2.11.3)\n",
      "Requirement already satisfied: Werkzeug>=0.15 in c:\\users\\smhrd\\anaconda3\\lib\\site-packages (from Flask>=0.9->flask_cors) (2.0.3)\n",
      "Requirement already satisfied: itsdangerous>=0.24 in c:\\users\\smhrd\\anaconda3\\lib\\site-packages (from Flask>=0.9->flask_cors) (2.0.1)\n",
      "Requirement already satisfied: click>=5.1 in c:\\users\\smhrd\\anaconda3\\lib\\site-packages (from Flask>=0.9->flask_cors) (8.0.4)\n",
      "Requirement already satisfied: colorama in c:\\users\\smhrd\\anaconda3\\lib\\site-packages (from click>=5.1->Flask>=0.9->flask_cors) (0.4.5)\n",
      "Requirement already satisfied: MarkupSafe>=0.23 in c:\\users\\smhrd\\anaconda3\\lib\\site-packages (from Jinja2>=2.10.1->Flask>=0.9->flask_cors) (2.0.1)\n"
     ]
    }
   ],
   "source": [
    "!pip install flask_cors"
   ]
  },
  {
   "cell_type": "code",
   "execution_count": 11,
   "id": "f6bba544",
   "metadata": {
    "ExecuteTime": {
     "end_time": "2023-09-12T00:12:13.319661Z",
     "start_time": "2023-09-11T06:56:04.263324Z"
    }
   },
   "outputs": [
    {
     "name": "stdout",
     "output_type": "stream",
     "text": [
      " * Serving Flask app \"__main__\" (lazy loading)\n",
      " * Environment: production\n",
      "\u001b[31m   WARNING: This is a development server. Do not use it in a production deployment.\u001b[0m\n",
      "\u001b[2m   Use a production WSGI server instead.\u001b[0m\n",
      " * Debug mode: off\n"
     ]
    },
    {
     "name": "stderr",
     "output_type": "stream",
     "text": [
      " * Running on http://172.30.1.95:5000/ (Press CTRL+C to quit)\n",
      "172.30.1.95 - - [11/Sep/2023 15:56:16] \"GET /ajax HTTP/1.1\" 200 -\n",
      "172.30.1.95 - - [11/Sep/2023 15:56:19] \"GET /form?data1=&data2= HTTP/1.1\" 200 -\n"
     ]
    },
    {
     "name": "stdout",
     "output_type": "stream",
     "text": [
      "{'data1': '', 'data2': ''}\n"
     ]
    },
    {
     "name": "stderr",
     "output_type": "stream",
     "text": [
      "172.30.1.95 - - [11/Sep/2023 15:56:25] \"GET /ajax HTTP/1.1\" 200 -\n",
      "172.30.1.95 - - [11/Sep/2023 15:57:21] \"GET /form?data1=&data2= HTTP/1.1\" 200 -\n"
     ]
    },
    {
     "name": "stdout",
     "output_type": "stream",
     "text": [
      "{'data1': '', 'data2': ''}\n"
     ]
    },
    {
     "name": "stderr",
     "output_type": "stream",
     "text": [
      "172.30.1.95 - - [11/Sep/2023 15:57:29] \"GET /ajax HTTP/1.1\" 200 -\n",
      "172.30.1.95 - - [11/Sep/2023 15:57:29] \"GET /ajax HTTP/1.1\" 200 -\n"
     ]
    }
   ],
   "source": [
    "# Django - 어려워요\n",
    "# Flask 라이브러리 - 간이 서버 프로그래밍용 라이브러리\n",
    "from flask import Flask, request, jsonify\n",
    "from flask_cors import CORS\n",
    "\n",
    "# 1. Flask 객체 생성\n",
    "app = Flask( __name__ ) # __name__ : 현재 파일 이름(Flask2)\n",
    "\n",
    "# 2. CORS(동일출처규약) 해소\n",
    "CORS(app)\n",
    "\n",
    "# 3. URLMapping 지정 및, 프로그래밍\n",
    "# 기본적으로 Flask는 RestController\n",
    "# @app.route( \"URLMapping\", methods=[ \"요청방식\" ] )\n",
    "@app.route(\"/test\", methods=[\"GET\", \"POST\"])\n",
    "def test():\n",
    "    print(\"서버에 요청함\")\n",
    "    \n",
    "    return \"Hello World\" # 문자열을 그대로 응답하겠다.\n",
    "\n",
    "# URLMapping : /form\n",
    "@app.route(\"/form\", methods=[\"GET\", \"POST\"])\n",
    "def form():\n",
    "    \n",
    "    if request.method == \"GET\":\n",
    "        \n",
    "        # 전송방식이 GET일때 데이터 수집\n",
    "        # key(name) : value\n",
    "        params = dict(request.args)\n",
    "        \n",
    "        print(params)\n",
    "        \n",
    "        return \"GET\"\n",
    "        \n",
    "    else : # POST라면\n",
    "        # post 일때는 request.form으로 수집\n",
    "        params = dict(request.form)\n",
    "        print(params)\n",
    "        return \"POST\"\n",
    "    \n",
    "@app.route(\"/ajax\")\n",
    "def ajax():\n",
    "    \n",
    "    result = {\n",
    "        \"data1\" : 15,\n",
    "        \"data2\" : 20,\n",
    "        \"data3\" : 25,\n",
    "        \"data4\" : 30\n",
    "    }\n",
    "    \n",
    "    return jsonify(result)\n",
    "\n",
    "# 4. Flask 서버 동작시키기\n",
    "if __name__ == \"__main__\": # 만약 파일이 실행된다면, __main__으로 값이 변경\n",
    "    # 이 파일을 실행한다면~~~\n",
    "    app.run( host=\"172.30.1.95\", # Flask 코드를 실행하는 컴퓨터의 ip 주소\n",
    "             port=5000  )"
   ]
  },
  {
   "cell_type": "code",
   "execution_count": null,
   "id": "3303c677",
   "metadata": {},
   "outputs": [],
   "source": []
  },
  {
   "cell_type": "code",
   "execution_count": null,
   "id": "b1826ded",
   "metadata": {},
   "outputs": [],
   "source": []
  },
  {
   "cell_type": "code",
   "execution_count": null,
   "id": "37630200",
   "metadata": {},
   "outputs": [],
   "source": []
  },
  {
   "cell_type": "code",
   "execution_count": null,
   "id": "11d1fe2f",
   "metadata": {},
   "outputs": [],
   "source": []
  },
  {
   "cell_type": "code",
   "execution_count": null,
   "id": "d01da764",
   "metadata": {},
   "outputs": [],
   "source": []
  },
  {
   "cell_type": "code",
   "execution_count": null,
   "id": "3900e883",
   "metadata": {},
   "outputs": [],
   "source": []
  },
  {
   "cell_type": "code",
   "execution_count": null,
   "id": "2b9f9c20",
   "metadata": {},
   "outputs": [],
   "source": []
  },
  {
   "cell_type": "code",
   "execution_count": null,
   "id": "03cd79c1",
   "metadata": {},
   "outputs": [],
   "source": []
  },
  {
   "cell_type": "code",
   "execution_count": null,
   "id": "82853d49",
   "metadata": {},
   "outputs": [],
   "source": []
  },
  {
   "cell_type": "code",
   "execution_count": null,
   "id": "26bbdab9",
   "metadata": {},
   "outputs": [],
   "source": []
  },
  {
   "cell_type": "code",
   "execution_count": null,
   "id": "f5d245da",
   "metadata": {},
   "outputs": [],
   "source": []
  },
  {
   "cell_type": "code",
   "execution_count": null,
   "id": "66c7a816",
   "metadata": {},
   "outputs": [],
   "source": []
  },
  {
   "cell_type": "code",
   "execution_count": null,
   "id": "1ac8da10",
   "metadata": {},
   "outputs": [],
   "source": []
  },
  {
   "cell_type": "code",
   "execution_count": null,
   "id": "57a6d759",
   "metadata": {},
   "outputs": [],
   "source": []
  },
  {
   "cell_type": "code",
   "execution_count": null,
   "id": "0cb3c1be",
   "metadata": {},
   "outputs": [],
   "source": []
  },
  {
   "cell_type": "code",
   "execution_count": null,
   "id": "3967066f",
   "metadata": {},
   "outputs": [],
   "source": []
  },
  {
   "cell_type": "code",
   "execution_count": null,
   "id": "ffc29d0d",
   "metadata": {},
   "outputs": [],
   "source": []
  }
 ],
 "metadata": {
  "kernelspec": {
   "display_name": "Python 3 (ipykernel)",
   "language": "python",
   "name": "python3"
  },
  "language_info": {
   "codemirror_mode": {
    "name": "ipython",
    "version": 3
   },
   "file_extension": ".py",
   "mimetype": "text/x-python",
   "name": "python",
   "nbconvert_exporter": "python",
   "pygments_lexer": "ipython3",
   "version": "3.9.13"
  },
  "toc": {
   "base_numbering": 1,
   "nav_menu": {},
   "number_sections": true,
   "sideBar": true,
   "skip_h1_title": false,
   "title_cell": "Table of Contents",
   "title_sidebar": "Contents",
   "toc_cell": false,
   "toc_position": {},
   "toc_section_display": true,
   "toc_window_display": false
  },
  "varInspector": {
   "cols": {
    "lenName": 16,
    "lenType": 16,
    "lenVar": 40
   },
   "kernels_config": {
    "python": {
     "delete_cmd_postfix": "",
     "delete_cmd_prefix": "del ",
     "library": "var_list.py",
     "varRefreshCmd": "print(var_dic_list())"
    },
    "r": {
     "delete_cmd_postfix": ") ",
     "delete_cmd_prefix": "rm(",
     "library": "var_list.r",
     "varRefreshCmd": "cat(var_dic_list()) "
    }
   },
   "types_to_exclude": [
    "module",
    "function",
    "builtin_function_or_method",
    "instance",
    "_Feature"
   ],
   "window_display": false
  }
 },
 "nbformat": 4,
 "nbformat_minor": 5
}
